{
 "cells": [
  {
   "cell_type": "code",
   "execution_count": 1,
   "metadata": {},
   "outputs": [],
   "source": [
    "import json\n",
    "import datetime\n",
    "\n",
    "# read the data from disk and split into lines\n",
    "# we use .strip() to remove the final (empty) line\n",
    "with open(\"./data/yelp4.json\") as f:\n",
    "    reviews = f.read().strip().split(\"\\n\")\n",
    "\n",
    "reviews = [json.loads(review) for review in reviews] \n",
    "\n",
    "texts = [review['text'] for review in reviews]\n",
    "stars = [review['stars'] for review in reviews]"
   ]
  },
  {
   "cell_type": "code",
   "execution_count": 2,
   "metadata": {},
   "outputs": [],
   "source": [
    "x = [texts[3]]\n",
    "y = [stars[3]]"
   ]
  },
  {
   "cell_type": "code",
   "execution_count": 3,
   "metadata": {},
   "outputs": [
    {
     "name": "stdout",
     "output_type": "stream",
     "text": [
      "0:00:36.107792\n"
     ]
    }
   ],
   "source": [
    "from sklearn.feature_extraction.text import TfidfVectorizer\n",
    "\n",
    "t1 = datetime.datetime.now()\n",
    "\n",
    "from sklearn.externals import joblib\n",
    "classifier = joblib.load('classifier_1.pkl')\n",
    "vectorizer = joblib.load('vectorizer_1.pkl')\n",
    "\n",
    "vectors = vectorizer.transform(x)\n",
    "\n",
    "print(datetime.datetime.now() - t1)"
   ]
  },
  {
   "cell_type": "code",
   "execution_count": 6,
   "metadata": {},
   "outputs": [
    {
     "name": "stdout",
     "output_type": "stream",
     "text": [
      "3\n",
      "3\n"
     ]
    }
   ],
   "source": [
    "preds = classifier.predict(vectors[0])\n",
    "print(preds[0])\n",
    "print(y[0])"
   ]
  },
  {
   "cell_type": "code",
   "execution_count": 5,
   "metadata": {},
   "outputs": [
    {
     "name": "stdout",
     "output_type": "stream",
     "text": [
      "0 * 3 * 3 )  Not a fan of the food\n",
      "However, I do appreciate that they have a LOT of salads on the menu!\n",
      "Yay!\n",
      "\n",
      "This is a good neighborhood bar.  If you're looking for trivia, karaoke, cheap happy hour drinks and you live in the neighborhood.... GO!\n",
      "\n",
      "If you don't live in the neighborhood, don't bother. ----\n",
      "\n"
     ]
    }
   ],
   "source": [
    "index = 0\n",
    "print(index,'*',preds[index],'*',y[index], ') ' ,texts[3] , '----\\n')"
   ]
  }
 ],
 "metadata": {
  "kernelspec": {
   "display_name": "Python 3",
   "language": "python",
   "name": "python3"
  },
  "language_info": {
   "codemirror_mode": {
    "name": "ipython",
    "version": 3
   },
   "file_extension": ".py",
   "mimetype": "text/x-python",
   "name": "python",
   "nbconvert_exporter": "python",
   "pygments_lexer": "ipython3",
   "version": "3.7.0"
  }
 },
 "nbformat": 4,
 "nbformat_minor": 2
}
