{
 "cells": [
  {
   "cell_type": "code",
   "execution_count": 1,
   "metadata": {},
   "outputs": [],
   "source": [
    "import json\n",
    "import datetime\n",
    "\n",
    "# read the data from disk and split into lines\n",
    "# we use .strip() to remove the final (empty) line\n",
    "with open(\"./data/yelp4.json\") as f:\n",
    "    reviews = f.read().strip().split(\"\\n\")\n",
    "\n",
    "reviews = [json.loads(review) for review in reviews] \n",
    "\n",
    "texts = [review['text'] for review in reviews]\n",
    "stars = [review['stars'] for review in reviews]"
   ]
  },
  {
   "cell_type": "code",
   "execution_count": 2,
   "metadata": {},
   "outputs": [],
   "source": [
    "from collections import Counter\n",
    "\n",
    "def balance_classes(xs, ys):\n",
    "    freqs = Counter(ys)\n",
    "\n",
    "    # the least common class is the maximum number we want for all classes\n",
    "    max_allowable = freqs.most_common()[-1][1]\n",
    "    num_added = {clss: 0 for clss in freqs.keys()}\n",
    "    new_ys = []\n",
    "    new_xs = []\n",
    "    for i, y in enumerate(ys):\n",
    "        if num_added[y] < max_allowable:\n",
    "            new_ys.append(y)\n",
    "            new_xs.append(xs[i])\n",
    "            num_added[y] += 1\n",
    "    return new_xs, new_ys"
   ]
  },
  {
   "cell_type": "code",
   "execution_count": 3,
   "metadata": {},
   "outputs": [
    {
     "name": "stdout",
     "output_type": "stream",
     "text": [
      "Counter({4: 86, 5: 77, 3: 45, 2: 22, 1: 20})\n",
      "Counter({4: 20, 2: 20, 3: 20, 5: 20, 1: 20})\n"
     ]
    }
   ],
   "source": [
    "print(Counter(stars))\n",
    "balanced_x, balanced_y = balance_classes(texts, stars)\n",
    "print(Counter(balanced_y))\n"
   ]
  },
  {
   "cell_type": "code",
   "execution_count": 4,
   "metadata": {},
   "outputs": [
    {
     "name": "stdout",
     "output_type": "stream",
     "text": [
      "0:00:31.028198\n"
     ]
    }
   ],
   "source": [
    "from sklearn.feature_extraction.text import TfidfVectorizer\n",
    "\n",
    "t1 = datetime.datetime.now()\n",
    "\n",
    "from sklearn.externals import joblib\n",
    "classifier = joblib.load('classifier.pkl')\n",
    "vectorizer = joblib.load('vectorizer.pkl')\n",
    "\n",
    "vectors = vectorizer.transform(balanced_x)\n",
    "\n",
    "print(datetime.datetime.now() - t1)"
   ]
  },
  {
   "cell_type": "code",
   "execution_count": 7,
   "metadata": {},
   "outputs": [
    {
     "name": "stdout",
     "output_type": "stream",
     "text": [
      "[5, 2, 1, 3, 3, 1, 5, 4, 5, 1, 3, 4, 1, 1, 3, 5, 2, 2, 5, 1, 3, 4, 1, 1, 3, 2, 4, 5, 5, 3, 5, 2, 5, 1, 1, 5, 4, 5, 1, 5, 4, 4, 4, 3, 5, 4, 4, 2, 3, 5, 5, 4, 5, 4, 5, 1, 5, 5, 4, 2, 3, 2, 5, 5, 1, 1, 1, 3, 3, 1, 3, 1, 3, 2, 2, 4, 3, 3, 1, 2]\n",
      "[4, 4, 2, 3, 4, 3, 5, 4, 5, 3, 2, 4, 1, 2, 4, 5, 4, 2, 5, 1, 3, 5, 5, 1, 3, 1, 4, 5, 4, 2, 4, 3, 5, 4, 2, 5, 4, 4, 1, 5, 4, 5, 5, 3, 5, 4, 4, 2, 3, 4, 4, 4, 4, 5, 5, 1, 3, 5, 5, 3, 3, 3, 5, 5, 5, 2, 1, 3, 3, 2, 3, 3, 3, 3, 2, 3, 3, 2, 1, 2]\n"
     ]
    }
   ],
   "source": [
    "preds = classifier.predict(vectors)\n",
    "print(list(preds[:80]))\n",
    "print(balanced_y[:80])"
   ]
  },
  {
   "cell_type": "code",
   "execution_count": 8,
   "metadata": {},
   "outputs": [
    {
     "name": "stdout",
     "output_type": "stream",
     "text": [
      "0 * 5 * 4 )  I LOVE this place. I practically lived here after having surgery a few weeks ago.... the shaved ice was one of the only things I could eat. I especially love their large selection of sugar-free syrups. Bahama Buck's made my recovery SO much more pleasant!!!\n",
      "\n",
      "The only thing I'm not fond of is the location... there always seems to be seedy people hanging out in that parking lot. It's not somewhere I'd feel particularly safe being after dark. ----\n",
      "\n",
      "1 * 2 * 4 )  I need my healthy food and I need my fresh produce and this place has it. I'm not rich so shopping at a place like Whole Foods with such a huge selection and an even huger price tag isn't going to happen. I feel like they have a wide range of stuff, but then sometimes I feel like they don't. Its been multiple times that I buy something I like and then the next time I come back they don't have it in stock... :( Almond butter, honey, 9 grain bread, ect. Some of the stuff is a little pricey, but its really fresh and they have some good deals. I just feel like they should carry some stuff they don't.... like turkey bacon... I have the same complaint about my local Trader Joe's because its pretty tiny, but neither of these stores are the size of a Fry's or Albertson's so I guess I'll just have to live going to multiple grocery stores to get what I want :/ ----\n",
      "\n",
      "2 * 1 * 2 )  Went in tonight for an emergency replacement of my glasses after an accident. Eye exam went well enough. \n",
      "The sales person was helpful finding a set of frames. We discussed lens options, and although the lenses were priced higher than any single frame and lens set I'd bought prior, I needed them and more importantly needed them tonight.\n",
      "\n",
      "Saleslady says no problem, the system shows there are several in stock. I paid and then the fun started. She says oh wait, sometimes the system is wrong. Let me make sure we have them. So I wait. And wait. And wait.\n",
      "\n",
      "She comes out and says, I'm sorry there is only one lens. You'll have to wait 10 days to get them or pay to upgrade. \n",
      "\n",
      "....\n",
      "\n",
      "I almost told her to reverse the charge and I'd take my prescription to the Arrowhead location. But she'd already charged my card and with my luck the bank would take their time removing it. So I said fine. I asked about them comping the upgrade since they should have checked prior to charging me, and it goes against their advertising policy. She laughed at me. I mentioned it again with the manager there and was ignored.\n",
      "\n",
      "When I went back an hour later to pick them up, the manager handed them to me as is. He didn't adjust the temples at all, and now after about an hour, the pressure behind my ears is to much to keep wearing them. \n",
      "\n",
      "I swear if not having glasses didn't cause me such bad headaches, I would have demanded a refund right there and gone upstairs to Alex Optical. Despite the problems I've had with their other locations, you get much better service at a better price, even if you have to wait a few days to get them. ----\n",
      "\n",
      "3 * 3 * 3 )  Not a fan of the food\n",
      "However, I do appreciate that they have a LOT of salads on the menu!\n",
      "Yay!\n",
      "\n",
      "This is a good neighborhood bar.  If you're looking for trivia, karaoke, cheap happy hour drinks and you live in the neighborhood.... GO!\n",
      "\n",
      "If you don't live in the neighborhood, don't bother. ----\n",
      "\n",
      "4 * 3 * 4 )  I dragged the manfriend here so that we could get a bit of the \"country\" experience in Phoenix, so this review is based off of only one visit (please keep that in mind!!).\n",
      "\n",
      "It was a bit of a drive from our hotel, but felt like stepping into another world, my perfect dream land of a gentlewoman's farm, where the faint whiff of pony poop does not imply that I will have to clean it up, where the sage and the stars and the dust conspire to make you hungry for a big dinner of country food.  What I most liked about Quiessence was that it was country food the way I would want to live in the country.  Less biscuits and fried stuff, more fruit of the land.\n",
      "\n",
      "+1 Star - Atmosphere.  Its sexy sexy sexy here.  More or less.  The fire pit on the way up the walkway (a walk lined with flowering vines, lush plants and the like) was so inviting.  The dining space was a tad over-lit, and you know how we ladies like our flattering lighting.\n",
      "+ 1 Star - Organized staff.  They had my reservation all squared away and they had saved a nice table for us, even though we were 15 minutes late (being Spanish, that means on time to me). We were swiftly attended to, but never felt rushed.\n",
      "- 1 Star - Beers and wines by the glass.  Not quite as much selection as we would have liked, even though the list is not meager.  Quality was good.  I would like to see more than one sparkling by the glass and a few more up-market selections by the glass.  They have an excellent list by the bottle, though.\n",
      "+ 1 Star - Food sourcing.  Its one thing to serve good food, which I demand (!).  It's another to care about where that food came from.  I can't recall exactly what we had (I had found some wine I liked!), but some of the standouts were the vegetables that came from the property that were a part of each dish.  + 1 Star - Menu.  We did the tasting menu ($65 a head) which was an alternative to ordering ala carte.  I was thrilled with my salad.  It was probably the best I have had in... forever?  He loved his entree, lamb with vegetables.  He looked at his place setting after finishing and commented that he had not used his knife!  Lamb was like butter!\n",
      "- 1 Star - Dessert.  Talk about a let down.  He had a white tiramisu that was okay, but not great.  I had pears on a shortbread cookie.  Not good at all.  The cookie was inedible.  These guys need a pastry chef.\n",
      "+ 1 Star - Romance.  It was so romantic here that we were inspired to go make out in the bathroom for a while. Should have seen the looks on people's faces.  Geez.  Prudes.  But it is one of the most bodice-ripping inspiring places I have been in a short while.  \n",
      "- 1 Star - Pricing.  Overall, $65 per head is not outrageous, but seems high for what was received.  I was not blown away by my entree - a poached egg with veggies.  Really?  Not so much.\n",
      "\n",
      "I am torn whenever writing reviews if I should be rating them (via the yelp star system) against their potential or against the overall establishments in the world or if I should rate them against those in their home town.  I feel very conflicted about rating Quiessence only 4 stars, as I believe it is likely one of the best that Phoenix/Scottsdale has to offer.  However, I would like to see them improve their desserts and also pay a bit more attention to lavishing on the guests (for example, it was a cold night, but they could have up-sold he and I to a drink by the fire pit outside if they had offered blankets or the like) before I give them 5 stars.  \n",
      "\n",
      "These guys need to be a little less precious in my view, keep their focus on the local sourcing, and get away from the overly fluffy presentation.  I liked this place very much and will try them again in the future, perhaps for their beautifully presented brunch, whiff of animal dung coddling my nostrils on a fair weather day. ----\n",
      "\n",
      "5 * 1 * 3 )  The buns were bought from a place like costco. The fixin bar was limited. The tomato was cold and therefore had no flavor. The meat tasted good. ----\n",
      "\n",
      "6 * 5 * 5 )  Just dined at Oregano's in their new location. All I can say is awesome! I had the chicken lasagna and my date had the shrimp pasta, both outstanding entrees. Don't miss the Italian gold wings for appetizer. The servers and bartenders all so friendly and do everything they can to make your experience awesome. Can't wait to go back again! ----\n",
      "\n",
      "7 * 4 * 4 )  My stupid condo complex has, count 'em, ONE washing machine and ONE dryer for sixteen units. Awesome. So when I have a lot of laundry to do, including rugs, bedspreads, and towels, it's off to the *shudder* laundromat. I have many supremely ghetto options in my neck of the woods (central Phoenix), but I voluntarily drive all the way to Tempe to Eco Laundry. \n",
      "\n",
      "This recently renovated laundromat is surprisingly not ghetto, for a laundromat. You still have your random screaming children with their equally poorly behaved parents, but the place is open, spacious, airy, and sparkling clean. The decor is sleekly IKEA-esque, with clean concrete floors. The staff is super friendly and helpful, and it's pretty mellow and quiet (again, minus the stray stupid kid). Since everything is new, *all* the machines actually - wait for it - FUNCTION. The prices are comparable other facilities, $1.25 for a small washing machine, $2.25 for the 2-loaders, $3.25 for the 3-loaders... and it goes up to 6-load capacity machines. Oh yeah, and free wi-fi! And free coffee! Very nice touches.\n",
      "\n",
      "They also have laundry services here, where you drop it off and the staff does it for you. Since I am a laundry control freak, I have not partaken in this service and can't vouch for its value, but it's nice to know it's available. ----\n",
      "\n",
      "8 * 5 * 5 )  I have always wanted to try Mood Swings and thanks to Yelp I did!  I didn't know they provided so many services and the prices are so reasonable.  I loved the mini salon services that were provided.  I can't wait to book an appointment for a facial!  Thanks for the amazing goodie bag!!! ----\n",
      "\n",
      "9 * 1 * 3 )  Omer,\n",
      "I'm sorry you had a bad experience at Autumn Court, I go about once every two weeks, and in the ten or more times I have gone I only experienced bad service once. I completely agree on the decor, Autumn Court relocated from their original location and the place they moved into looks a bit \"Bill Johnson's\"\n",
      "\n",
      "The reason I return is the food. I generally navigate to the Dan-Dan noodles, for lunch the servings are a good price, with plenty of quality and quantity. I tried the Sushi once and came away unimpressed.\n",
      "\n",
      "In summary, not a bad lunchtime Chinese place ----\n",
      "\n"
     ]
    }
   ],
   "source": [
    "for index,text in enumerate(texts[0:10]):\n",
    "    print(index,'*',preds[index],'*',balanced_y[index], ') ' ,text , '----\\n')"
   ]
  }
 ],
 "metadata": {
  "kernelspec": {
   "display_name": "Python 3",
   "language": "python",
   "name": "python3"
  },
  "language_info": {
   "codemirror_mode": {
    "name": "ipython",
    "version": 3
   },
   "file_extension": ".py",
   "mimetype": "text/x-python",
   "name": "python",
   "nbconvert_exporter": "python",
   "pygments_lexer": "ipython3",
   "version": "3.7.0"
  }
 },
 "nbformat": 4,
 "nbformat_minor": 2
}
